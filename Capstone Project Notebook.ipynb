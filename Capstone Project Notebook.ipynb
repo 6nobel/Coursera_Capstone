{
    "cells": [
        {
            "cell_type": "markdown",
            "metadata": {
                "collapsed": true
            },
            "source": "Capstone Project Notebook\n======\nWelcome, everybody!\n\nThis notebook will be mainly used for my capstone project.\n\nHope you enjoy!\n\nBenjamin"
        },
        {
            "cell_type": "code",
            "execution_count": 2,
            "metadata": {},
            "outputs": [],
            "source": "import pandas as pd\nimport numpy as np"
        },
        {
            "cell_type": "code",
            "execution_count": 3,
            "metadata": {},
            "outputs": [
                {
                    "name": "stdout",
                    "output_type": "stream",
                    "text": "Hello Capstone Project Course!\n"
                }
            ],
            "source": "print('Hello Capstone Project Course!')"
        },
        {
            "cell_type": "markdown",
            "metadata": {},
            "source": "#### Introduction to the Business Problem\n\nA friend of mine owns a whine wholesale business in northern germany. He currently has 5 employees doing the sales for the restaurants in the area, but there is not geographical distribution between them, meaning that sometimes in two days two employees would visit the same area but different customers, so a lot of travelling time and expenses are wasted. The basic question behind this is now - can we suggest to the management of the business a better distribution of the sales areas in a fair and efficient way?\n\nThe distribution should include following assumptions:\n- Every restaurant is already, or is potentially a customer, so should be considered equally. With the exeption of:\n- Asian restaurants tend to not buy much whine, but rather serve their local specialty drinks. They should not impact the decision.\n- Should there be a better solution than 5 areas, by switching people between departments we could probably looking at 4 to 7 areas as well.\n- Current trade area is roughly everything north of the line from the Netherlands border to Bremen"
        },
        {
            "cell_type": "markdown",
            "metadata": {},
            "source": "#### Description of the Data for this Project\n\nMain ressource for Data for this Project will be the Foursquare API, from which we can levarage the details of all the restaurants in the area, especially their location and what category of restaurant they are. To get the information about all restaurants in the trade area, we will first need to define the exact coordinates for the trade area. Then try to find a way to extract all the information from Foursquare, which we can then afterwards clean and process according to location and category, in accordance with the requirements."
        },
        {
            "cell_type": "code",
            "execution_count": null,
            "metadata": {},
            "outputs": [],
            "source": ""
        }
    ],
    "metadata": {
        "kernelspec": {
            "display_name": "Python 3.6",
            "language": "python",
            "name": "python3"
        },
        "language_info": {
            "codemirror_mode": {
                "name": "ipython",
                "version": 3
            },
            "file_extension": ".py",
            "mimetype": "text/x-python",
            "name": "python",
            "nbconvert_exporter": "python",
            "pygments_lexer": "ipython3",
            "version": "3.6.9"
        }
    },
    "nbformat": 4,
    "nbformat_minor": 1
}